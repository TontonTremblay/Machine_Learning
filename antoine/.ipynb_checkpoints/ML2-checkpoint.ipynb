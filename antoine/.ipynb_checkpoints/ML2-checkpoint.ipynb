{
 "cells": [
  {
   "cell_type": "code",
   "execution_count": 7,
   "metadata": {
    "collapsed": false
   },
   "outputs": [
    {
     "data": {
      "text/plain": [
       "(97L, 6663L)"
      ]
     },
     "execution_count": 7,
     "metadata": {},
     "output_type": "execute_result"
    }
   ],
   "source": [
    "import pandas as pd\n",
    "df = pd.read_csv('data_clean.csv')\n",
    "\n",
    "df.columns = ['r'] + list(df.columns[1:])\n",
    "import numpy as np\n",
    "#prepare the data\n",
    "data = df[df.columns[1:]].values\n",
    "np.random.shuffle(data)\n",
    "X = data[:,:-1]\n",
    "y = data[:,-1]\n",
    "t = 0.15 #keep 10 percent for testing\n",
    "X.shape"
   ]
  },
  {
   "cell_type": "code",
   "execution_count": 28,
   "metadata": {
    "collapsed": false
   },
   "outputs": [
    {
     "data": {
      "text/plain": [
       "(97L, 97L)"
      ]
     },
     "execution_count": 28,
     "metadata": {},
     "output_type": "execute_result"
    }
   ],
   "source": [
    "#try to remove some features \n",
    "from sklearn import decomposition \n",
    "pca = decomposition.PCA()\n",
    "pca.fit(X)\n",
    "pca.n_components = 100\n",
    "Xr = pca.fit_transform(X)\n",
    "Xr.shape"
   ]
  },
  {
   "cell_type": "code",
   "execution_count": 34,
   "metadata": {
    "collapsed": false
   },
   "outputs": [
    {
     "name": "stdout",
     "output_type": "stream",
     "text": [
      "0.687714285714 0.125998380294\n"
     ]
    }
   ],
   "source": [
    "#Now try to find the most interesting dimensions \n",
    "def randomizedData(data):\n",
    "    np.random.shuffle(data)\n",
    "    pca = decomposition.PCA()\n",
    "    pca.fit(X)\n",
    "    pca.n_components = 10\n",
    "    Xr = pca.fit_transform(X)\n",
    "    Xr.shape\n",
    "    t = 0.15 #keep 15 percent for testing\n",
    "    x_train = Xr[t*len(Xr):]\n",
    "    x_test = Xr[:t*len(Xr)]\n",
    "    y_train = y[t*len(y):]\n",
    "    y_test = y[:t*len(y)]\n",
    "    return (x_train,y_train,x_test,y_test)\n",
    "\n",
    "r = []\n",
    "n=1000\n",
    "for i in range(n):\n",
    "    xy = randomizedData(data)\n",
    "    clf = RandomForestClassifier()\n",
    "    clf.fit(xy[0],xy[1])\n",
    "    r+=[clf.score(xy[2],xy[3])]\n",
    "            \n",
    "r = np.array(r)\n",
    "print r.mean(),r.std()"
   ]
  },
  {
   "cell_type": "code",
   "execution_count": 39,
   "metadata": {
    "collapsed": false
   },
   "outputs": [
    {
     "data": {
      "text/plain": [
       "<matplotlib.axes._subplots.AxesSubplot at 0x25663518>"
      ]
     },
     "execution_count": 39,
     "metadata": {},
     "output_type": "execute_result"
    },
    {
     "data": {
      "image/png": "[encoded data removed]",
      "text/plain": [
       "<matplotlib.figure.Figure at 0x254b4208>"
      ]
     },
     "metadata": {},
     "output_type": "display_data"
    }
   ],
   "source": [
    "%matplotlib inline\n",
    "import seaborn as sns \n",
    "sns.distplot(r,bins=12,rug=True)"
   ]
  },
  {
   "cell_type": "code",
   "execution_count": null,
   "metadata": {
    "collapsed": true
   },
   "outputs": [],
   "source": []
  }
 ],
 "metadata": {
  "kernelspec": {
   "display_name": "Python 2",
   "language": "python",
   "name": "python2"
  },
  "language_info": {
   "codemirror_mode": {
    "name": "ipython",
    "version": 2
   },
   "file_extension": ".py",
   "mimetype": "text/x-python",
   "name": "python",
   "nbconvert_exporter": "python",
   "pygments_lexer": "ipython2",
   "version": "2.7.10"
  }
 },
 "nbformat": 4,
 "nbformat_minor": 0
}
