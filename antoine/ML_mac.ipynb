{
 "metadata": {
  "name": "",
  "signature": "sha256:d2a6abdb02b3091182e6a57d1a31d49caf1b589804e806a02b5486fbf132e4e0"
 },
 "nbformat": 3,
 "nbformat_minor": 0,
 "worksheets": [
  {
   "cells": [
    {
     "cell_type": "code",
     "collapsed": false,
     "input": [
      "import pandas as pd\n",
      "df = pd.read_csv('data_clean.csv')\n",
      "\n",
      "df.columns = ['r'] + list(df.columns[1:])\n",
      "import numpy as np\n",
      "#prepare the data\n",
      "data = df[df.columns[1:]].values"
     ],
     "language": "python",
     "metadata": {},
     "outputs": [],
     "prompt_number": 22
    },
    {
     "cell_type": "code",
     "collapsed": false,
     "input": [
      "#Now try to find the most interesting dimensions \n",
      "from sklearn.dummy import DummyClassifier\n",
      "from sklearn.ensemble import RandomForestClassifier\n",
      "def randomizedData(data):\n",
      "    np.random.shuffle(data)\n",
      "    pca = decomposition.PCA()\n",
      "    pca.fit(X)\n",
      "    pca.n_components = 10\n",
      "    Xr = pca.fit_transform(X)\n",
      "    Xr.shape\n",
      "    t = 0.15 #keep 15 percent for testing\n",
      "    x_train = Xr[t*len(Xr):]\n",
      "    x_test = Xr[:t*len(Xr)]\n",
      "    y_train = y[t*len(y):]\n",
      "    y_test = y[:t*len(y)]\n",
      "    return (x_train,y_train,x_test,y_test)\n",
      "\n",
      "r = []\n",
      "rdummy = []\n",
      "\n",
      "n=1000\n",
      "for i in range(n):\n",
      "    xy = randomizedData(data)\n",
      "    clf = RandomForestClassifier()\n",
      "    clf.fit(xy[0],xy[1])\n",
      "    r+=[clf.score(xy[2],xy[3])]\n",
      "    clf2 = DummyClassifier()\n",
      "    clf2.fit(xy[0],xy[1])\n",
      "    rdummy += [clf2.score(xy[2],xy[3])]        \n",
      "r = np.array(r)\n",
      "rdummy = np.array(rdummy)\n",
      "print r.mean(),r.std()\n",
      "print rdummy.mean(),rdummy.std()"
     ],
     "language": "python",
     "metadata": {},
     "outputs": [
      {
       "output_type": "stream",
       "stream": "stdout",
       "text": [
        "0.725214285714 0.0928459059135\n",
        "0.330785714286 0.125373706679\n"
       ]
      }
     ],
     "prompt_number": 24
    },
    {
     "cell_type": "code",
     "collapsed": false,
     "input": [
      "%matplotlib inline\n",
      "import seaborn as sns \n",
      "sns.distplot(r,bins=8,rug=True)\n",
      "sns.distplot(rdummy,bins=8,rug=True)"
     ],
     "language": "python",
     "metadata": {},
     "outputs": [
      {
       "metadata": {},
       "output_type": "pyout",
       "prompt_number": 26,
       "text": [
        "<matplotlib.axes._subplots.AxesSubplot at 0x10e02be90>"
       ]
      },
      {
       "metadata": {},
       "output_type": "display_data",
       "png": "[encoded data removed]",
       "text": [
        "<matplotlib.figure.Figure at 0x1035eb050>"
       ]
      }
     ],
     "prompt_number": 26
    },
    {
     "cell_type": "code",
     "collapsed": false,
     "input": [
      "def randomizedDataNoPCA(data):\n",
      "    np.random.shuffle(data)\n",
      "    X = data[:,:-1]\n",
      "    y = data[:,-1]\n",
      "    t = 0.15 #keep 15 percent for testing\n",
      "    x_train = X[t*len(X):]\n",
      "    x_test = X[:t*len(X)]\n",
      "    y_train = y[t*len(y):]\n",
      "    y_test = y[:t*len(y)]\n",
      "    x_train.shape, y_train.shape\n",
      "    return (x_train,y_train,x_test,y_test)\n",
      "\n",
      "n=100\n",
      "fused = {}\n",
      "for i in range(n):\n",
      "    xy = randomizedDataNoPCA(data)\n",
      "    clf = RandomForestClassifier()\n",
      "    clf.fit(xy[0],xy[1])\n",
      "    #now check which features were used. \n",
      "    f = []\n",
      "    for i in range(len(clf.feature_importances_ )):\n",
      "        if clf.feature_importances_[i]>0:\n",
      "            f+= [( clf.feature_importances_[i],df.columns[i])]\n",
      "    f = sorted(f)\n",
      "    for j in f[-10:]:\n",
      "        if not j[1] in fused:\n",
      "            fused[j[1]] = []\n",
      "        fused[j[1]].append(j[0])\n",
      "            \n",
      "def getKey(k):\n",
      "    return len(k[1])\n",
      "\n",
      "fusedtemp = []\n",
      "for i in fused.keys():\n",
      "    fusedtemp.append([i,fused[i]])\n",
      "ftemp = sorted(fusedtemp,key=getKey)\n",
      "\n",
      "for t in ftemp[-10:]:\n",
      "    print t[0],len(t[1])/float(n) * 100 \n",
      "\n"
     ],
     "language": "python",
     "metadata": {},
     "outputs": []
    },
    {
     "cell_type": "code",
     "collapsed": false,
     "input": [],
     "language": "python",
     "metadata": {},
     "outputs": []
    }
   ],
   "metadata": {}
  }
 ]
}