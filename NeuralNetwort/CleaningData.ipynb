{
 "metadata": {
  "name": "",
  "signature": "sha256:9e7992e7119392be48908f9bd33afac115d64cdf8bca5a9c2ed5e425e4c1ebd0"
 },
 "nbformat": 3,
 "nbformat_minor": 0,
 "worksheets": [
  {
   "cells": [
    {
     "cell_type": "code",
     "collapsed": false,
     "input": [
      "import cPickle\n",
      "data  = cPickle.load( open( \"rfam_data_full.cPickle\", \"rb\" ) )\n",
      "data['RF00083'].keys()"
     ],
     "language": "python",
     "metadata": {},
     "outputs": [
      {
       "metadata": {},
       "output_type": "pyout",
       "prompt_number": 1,
       "text": [
        "['ss', 'sequences_no_gap', 'di_nt', 'average_length', 'sequences', 'ref']"
       ]
      }
     ],
     "prompt_number": 1
    },
    {
     "cell_type": "code",
     "collapsed": false,
     "input": [
      "len(data['RF00083']['sequences'].values())"
     ],
     "language": "python",
     "metadata": {},
     "outputs": [
      {
       "metadata": {},
       "output_type": "pyout",
       "prompt_number": 2,
       "text": [
        "1097"
       ]
      }
     ],
     "prompt_number": 2
    },
    {
     "cell_type": "code",
     "collapsed": false,
     "input": [
      "#data['RF00083']['sequences'].keys()\n",
      "data['RF00083']['sequences'][\"BAAW01011941.1/756-552\"]"
     ],
     "language": "python",
     "metadata": {},
     "outputs": [
      {
       "metadata": {},
       "output_type": "pyout",
       "prompt_number": 21,
       "text": [
        "'GUAGAUGCUCAUUCCAU.CU.CUUAUGUUCGCCUCU..................G..............................GC.NUCAUAAACUCA.GGAAUGAUGC.AGA.GCCGUU....UACGG..UGCUN.A.UCGUCCA..CAGA.CAGAUG.UCGCG.UAG.C.CU................................................................CAUCAAACACCCAUGGACAUAACGUUGA.....................GUGAAGCA.CCC.AUUU.AUGUUGUCA.U.ACA................................GACCUG..................UUUAACGCCUGCUCCUUA...CC........................................GAGCGGGCGUUNUUUU'"
       ]
      }
     ],
     "prompt_number": 21
    },
    {
     "cell_type": "code",
     "collapsed": false,
     "input": [
      "#check the longest sequence. \n",
      "l1 = -1\n",
      "l2 = -2\n",
      "for k in data.keys():\n",
      "    for seq in data[k]['sequences'].values():\n",
      "        if l1< len(seq):\n",
      "            l1 = len(seq)\n",
      "        cleanSeq = seq.replace('.',\"\").replace('-','')\n",
      "        if l2 <len(cleanSeq):\n",
      "            l2 = len(cleanSeq)\n",
      "l1,l2"
     ],
     "language": "python",
     "metadata": {},
     "outputs": [
      {
       "metadata": {},
       "output_type": "pyout",
       "prompt_number": 26,
       "text": [
        "(457, 260)"
       ]
      }
     ],
     "prompt_number": 26
    },
    {
     "cell_type": "code",
     "collapsed": false,
     "input": [
      "#ACGU.\n",
      "#. and - are the same thing\n",
      "d = {'A':0,'C':1,'G':2,'U':3,'.':4,'-':4}\n",
      "df = {'RF00083':0,'RF00128':1}\n",
      "\n",
      "vDataStructure = []\n",
      "vData = []\n",
      "for k in data.keys():\n",
      "    for seqk in data[k]['sequences']:\n",
      "        a1 = [4 for _ in range(l1)]\n",
      "        a2 = [4 for _ in range(l2)]\n",
      "        seq = data[k]['sequences'][seqk]\n",
      "        if 'N' in seq:\n",
      "            #print seqk,k\n",
      "            continue\n",
      "        #Keep the structure\n",
      "        for i in range(len(seq)):\n",
      "            a1[i] = d[seq[i]]\n",
      "        vDataStructure.append( a1 + [seqk,k]) \n",
      "        #wihout the structure\n",
      "        j =0 \n",
      "        for i in range(len(seq)):\n",
      "            if not d[seq[i]] is 4: \n",
      "                a2[j] = d[seq[i]]\n",
      "                j+=1\n",
      "        vData.append( a2 + [seqk,k]) \n",
      "        \n"
     ],
     "language": "python",
     "metadata": {},
     "outputs": [],
     "prompt_number": 30
    },
    {
     "cell_type": "code",
     "collapsed": false,
     "input": [
      "#with .......----- in the sequence\n",
      "import pandas as pd \n",
      "cols = ['s'+str(i) for i in range(l1)]\n",
      "dfstruct = pd.DataFrame(vDataStructure,columns=cols + ['infere','familly'])\n",
      "cols = ['s'+str(i) for i in range(l2)]\n",
      "df = pd.DataFrame(vData,columns=cols + ['infere','familly'])\n",
      "dfstruct.to_csv('seq_struct_data.csv')\n",
      "df.to_csv('seq_data.csv')"
     ],
     "language": "python",
     "metadata": {},
     "outputs": [],
     "prompt_number": 35
    },
    {
     "cell_type": "code",
     "collapsed": false,
     "input": [],
     "language": "python",
     "metadata": {},
     "outputs": [],
     "prompt_number": 35
    },
    {
     "cell_type": "code",
     "collapsed": false,
     "input": [],
     "language": "python",
     "metadata": {},
     "outputs": []
    }
   ],
   "metadata": {}
  }
 ]
}