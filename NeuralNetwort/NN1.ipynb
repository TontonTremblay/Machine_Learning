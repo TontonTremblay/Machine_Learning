{
 "metadata": {
  "name": "",
  "signature": "sha256:1f937b52e39b1f6e143670409f5c57fed3e97089b2708cb004ead32810a043ac"
 },
 "nbformat": 3,
 "nbformat_minor": 0,
 "worksheets": [
  {
   "cells": [
    {
     "cell_type": "code",
     "collapsed": false,
     "input": [
      "import tensorflow as tf\n",
      "import pandas as pd\n",
      "import numpy as np\n",
      "#df = pd.read_csv('seq_struct_data.csv')\n",
      "df = pd.read_csv('seq_data.csv')\n",
      "#df.columns"
     ],
     "language": "python",
     "metadata": {},
     "outputs": [],
     "prompt_number": 118
    },
    {
     "cell_type": "code",
     "collapsed": false,
     "input": [
      "def getData(data):\n",
      "    data = data.reindex(np.random.permutation(df.index))\n",
      "    data = data.values\n",
      "    X = data[:,:-2]\n",
      "    y = data[:,-1]\n",
      "    #Change the y to a 2dimensionnal \n",
      "    ytemp = []\n",
      "    for i in y:\n",
      "        if i is 0:\n",
      "            ytemp.append([1,0])\n",
      "        else:\n",
      "            ytemp.append([0,1])\n",
      "    y = np.array(ytemp)\n",
      "    \n",
      "    t = 0.15 #keep 15 percent for testing\n",
      "    x_train = X[t*len(X):]\n",
      "    x_test = X[:t*len(X)]\n",
      "    y_train = y[t*len(y):]\n",
      "    y_test = y[:t*len(y)]\n",
      "    return (x_train,y_train,x_test,y_test)\n",
      "    \n",
      "xy = getData(df)"
     ],
     "language": "python",
     "metadata": {},
     "outputs": [],
     "prompt_number": 119
    },
    {
     "cell_type": "code",
     "collapsed": false,
     "input": [
      "\n",
      "#2 is hard coded but it should be the number of unique things in y or xy[1]\n",
      "numbClasses = 2\n",
      "numbDim= len(xy[0][0])\n",
      "x = tf.placeholder(\"float\", shape=[None,numbDim])\n",
      "y_ = tf.placeholder(\"float\", shape=[None, numbClasses])\n",
      "\n",
      "W = tf.Variable(tf.zeros([numbDim,numbClasses]))\n",
      "b = tf.Variable(tf.zeros([numbClasses]))"
     ],
     "language": "python",
     "metadata": {},
     "outputs": [],
     "prompt_number": 120
    },
    {
     "cell_type": "code",
     "collapsed": false,
     "input": [
      "sess = tf.InteractiveSession()\n",
      "sess.run(tf.initialize_all_variables())\n",
      "y = tf.nn.softmax(tf.matmul(x,W) + b)\n",
      "cross_entropy = -tf.reduce_sum(y_*tf.log(y))\n",
      "train_step = tf.train.GradientDescentOptimizer(0.01).minimize(cross_entropy)"
     ],
     "language": "python",
     "metadata": {},
     "outputs": [
      {
       "output_type": "stream",
       "stream": "stderr",
       "text": [
        "Exception AssertionError: AssertionError() in <bound method InteractiveSession.__del__ of <tensorflow.python.client.session.InteractiveSession object at 0x1071c6ed0>> ignored\n"
       ]
      }
     ],
     "prompt_number": 121
    },
    {
     "cell_type": "code",
     "collapsed": false,
     "input": [
      "import random\n",
      "\n",
      "for i in range(1000):\n",
      "    index = random.randint(0,len(xy[0])-50)\n",
      "    batch = [xy[0][index:index+50],xy[1][index:index+50]]\n",
      "\n",
      "    train_step.run(feed_dict={x: batch[0], y_: batch[1]})\n",
      "    "
     ],
     "language": "python",
     "metadata": {},
     "outputs": [],
     "prompt_number": 122
    },
    {
     "cell_type": "code",
     "collapsed": false,
     "input": [
      "correct_prediction = tf.equal(tf.argmax(y,1), tf.argmax(y_,1))\n",
      "accuracy = tf.reduce_mean(tf.cast(correct_prediction, \"float\"))\n",
      "\n",
      "print accuracy.eval(feed_dict={x: xy[2], y_: xy[3]})"
     ],
     "language": "python",
     "metadata": {},
     "outputs": [
      {
       "output_type": "stream",
       "stream": "stdout",
       "text": [
        "0.453704\n"
       ]
      }
     ],
     "prompt_number": 123
    },
    {
     "cell_type": "code",
     "collapsed": false,
     "input": [
      "#lets try with two layers. \n"
     ],
     "language": "python",
     "metadata": {},
     "outputs": []
    }
   ],
   "metadata": {}
  }
 ]
}